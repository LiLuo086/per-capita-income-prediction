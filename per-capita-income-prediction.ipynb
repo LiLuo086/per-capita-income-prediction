{
 "cells": [
  {
   "cell_type": "markdown",
   "id": "d53ab697",
   "metadata": {
    "_cell_guid": "b1076dfc-b9ad-4769-8c92-a6c4dae69d19",
    "_uuid": "8f2839f25d086af736a60e9eeb907d3b93b6e0e5",
    "execution": {
     "iopub.execute_input": "2023-09-14T09:17:44.887678Z",
     "iopub.status.busy": "2023-09-14T09:17:44.887203Z",
     "iopub.status.idle": "2023-09-14T09:17:44.896148Z",
     "shell.execute_reply": "2023-09-14T09:17:44.894705Z",
     "shell.execute_reply.started": "2023-09-14T09:17:44.887641Z"
    },
    "papermill": {
     "duration": 0.006632,
     "end_time": "2023-10-09T20:42:48.094692",
     "exception": false,
     "start_time": "2023-10-09T20:42:48.08806",
     "status": "completed"
    },
    "tags": []
   },
   "source": [
    "# Table of Contents\n",
    " 1. [Introduction](#1.-Introduction) \n",
    " 2. [Get the Data and Explore the Dataset](#2.-Get-the-Data-and-Explore-the-Dataset)\n",
    " 3. [Data Visualization and Analysis](#3.-Data-Visualization-and-Analysis)\n",
    " 4. [Model Trainning](#4.-Model-Trainning)\n",
    " 5. [Model Validation](#5.-Model-Validation)\n",
    " 6. [Prediction Visualization](#6.-Prediction-Visualization)"
   ]
  },
  {
   "cell_type": "markdown",
   "id": "3b74e516",
   "metadata": {
    "papermill": {
     "duration": 0.005757,
     "end_time": "2023-10-09T20:42:48.106757",
     "exception": false,
     "start_time": "2023-10-09T20:42:48.101",
     "status": "completed"
    },
    "tags": []
   },
   "source": [
    "*************************************************************************************************"
   ]
  },
  {
   "attachments": {
    "37e20b33-beb5-4cff-b2ed-b762d4c1552f.png": {
     "image/png": "[encoded data removed]"
    }
   },
   "cell_type": "markdown",
   "id": "7df46f0d",
   "metadata": {
    "papermill": {
     "duration": 0.005682,
     "end_time": "2023-10-09T20:42:48.118477",
     "exception": false,
     "start_time": "2023-10-09T20:42:48.112795",
     "status": "completed"
    },
    "tags": []
   },
   "source": [
    "## 1. Introduction\n",
    "In this project, we use a simple dataset to learn how to complete a machine learning project with the guide of machine learning pipeline and the following diagrams shows the components that make up a typical machine learning pipeline.\n",
    "\n",
    "![image.png](attachment:37e20b33-beb5-4cff-b2ed-b762d4c1552f.png)\n",
    "\n",
    "The goal of the project is to use available features in a dataset to make predictions. \n",
    "\n",
    "The models we used here are two regression models: **Linear Regression** and **Polynomial Regression**, and both of them are the basic and important machine learning models.  \n",
    "\n",
    "### About the Dataset\n",
    "The pubic dataset [Canada_per_capita_income](https://www.kaggle.com/datasets/amalab182/canada-per-capita-income) provides the average income per capita over a specific period(from 1970 to 2016) in Canada and includes totally 47 rows and 2 columns: **year** and **income**. The information contained in this dataset can help people better understand the economic trends in Canada.\n",
    "\n",
    "\n",
    "After Exporing the dataset we will find that this dataset in practice could not prodive sufficient information to predict the income, since only the single feature **year** cannot determin the **income**, or income is not much relevant to the years number. However, it is still a good example to demonstrate the machine learning pipeline and how to train a Linear Regression model in Scikit-Learn at the beginning. "
   ]
  },
  {
   "cell_type": "markdown",
   "id": "2b2e70ad",
   "metadata": {
    "papermill": {
     "duration": 0.005576,
     "end_time": "2023-10-09T20:42:48.13003",
     "exception": false,
     "start_time": "2023-10-09T20:42:48.124454",
     "status": "completed"
    },
    "tags": []
   },
   "source": [
    "*************************************************************************************************"
   ]
  },
  {
   "cell_type": "code",
   "execution_count": null,
   "id": "b7206d7c",
   "metadata": {},
   "outputs": [],
   "source": []
  },
  {
   "cell_type": "markdown",
   "id": "238ef954",
   "metadata": {
    "papermill": {
     "duration": 0.005632,
     "end_time": "2023-10-09T20:42:48.141704",
     "exception": false,
     "start_time": "2023-10-09T20:42:48.136072",
     "status": "completed"
    },
    "tags": []
   },
   "source": [
    "## 2. Get the Data and Explore the Dataset"
   ]
  },
  {
   "cell_type": "code",
   "execution_count": 2,
   "id": "a6e15a47",
   "metadata": {
    "execution": {
     "iopub.execute_input": "2023-10-09T20:42:48.158345Z",
     "iopub.status.busy": "2023-10-09T20:42:48.157368Z",
     "iopub.status.idle": "2023-10-09T20:42:49.648383Z",
     "shell.execute_reply": "2023-10-09T20:42:49.647535Z"
    },
    "papermill": {
     "duration": 1.501508,
     "end_time": "2023-10-09T20:42:49.650981",
     "exception": false,
     "start_time": "2023-10-09T20:42:48.149473",
     "status": "completed"
    },
    "tags": []
   },
   "outputs": [],
   "source": [
    "# import necessary python packages\n",
    "import pandas as pd\n",
    "import numpy as np\n",
    "import matplotlib.pyplot as plt\n",
    "from pathlib import Path\n",
    "\n",
    "\n",
    "# import relevant machine learning packages from Scikit-Learn\n",
    "from sklearn.model_selection import train_test_split        # dataset splitting\n",
    "from sklearn.linear_model import LinearRegression           # Linear Regression model\n",
    "from sklearn.preprocessing import PolynomialFeatures        # feature extending in Polynomia Regression model\n",
    "from sklearn.metrics import mean_squared_error              # evaluation metric Mean Squared Error(MSE)\n",
    "from sklearn.model_selection import cross_val_score         # cross-validation model"
   ]
  },
  {
   "cell_type": "markdown",
   "id": "6b078860",
   "metadata": {
    "papermill": {
     "duration": 0.00591,
     "end_time": "2023-10-09T20:42:49.663403",
     "exception": false,
     "start_time": "2023-10-09T20:42:49.657493",
     "status": "completed"
    },
    "tags": []
   },
   "source": [
    "Import the dataset [Canada_per_capita_income](https://www.kaggle.com/datasets/amalab182/canada-per-capita-income) into a DataFrame **capita_GDP**."
   ]
  },
  {
   "cell_type": "code",
   "execution_count": 3,
   "id": "cda1b04b",
   "metadata": {
    "execution": {
     "iopub.execute_input": "2023-10-09T20:42:49.678631Z",
     "iopub.status.busy": "2023-10-09T20:42:49.677516Z",
     "iopub.status.idle": "2023-10-09T20:42:49.70052Z",
     "shell.execute_reply": "2023-10-09T20:42:49.699296Z"
    },
    "papermill": {
     "duration": 0.033326,
     "end_time": "2023-10-09T20:42:49.703174",
     "exception": false,
     "start_time": "2023-10-09T20:42:49.669848",
     "status": "completed"
    },
    "tags": []
   },
   "outputs": [
    {
     "name": "stdout",
     "output_type": "stream",
     "text": [
      "Data load successfully, 47 rows, 2 columns\n"
     ]
    },
    {
     "data": {
      "text/html": [
       "<div>\n",
       "<style scoped>\n",
       "    .dataframe tbody tr th:only-of-type {\n",
       "        vertical-align: middle;\n",
       "    }\n",
       "\n",
       "    .dataframe tbody tr th {\n",
       "        vertical-align: top;\n",
       "    }\n",
       "\n",
       "    .dataframe thead th {\n",
       "        text-align: right;\n",
       "    }\n",
       "</style>\n",
       "<table border=\"1\" class=\"dataframe\">\n",
       "  <thead>\n",
       "    <tr style=\"text-align: right;\">\n",
       "      <th></th>\n",
       "      <th>year</th>\n",
       "      <th>income</th>\n",
       "    </tr>\n",
       "  </thead>\n",
       "  <tbody>\n",
       "    <tr>\n",
       "      <th>0</th>\n",
       "      <td>1970</td>\n",
       "      <td>3399.299037</td>\n",
       "    </tr>\n",
       "    <tr>\n",
       "      <th>1</th>\n",
       "      <td>1971</td>\n",
       "      <td>3768.297935</td>\n",
       "    </tr>\n",
       "    <tr>\n",
       "      <th>2</th>\n",
       "      <td>1972</td>\n",
       "      <td>4251.175484</td>\n",
       "    </tr>\n",
       "    <tr>\n",
       "      <th>3</th>\n",
       "      <td>1973</td>\n",
       "      <td>4804.463248</td>\n",
       "    </tr>\n",
       "    <tr>\n",
       "      <th>4</th>\n",
       "      <td>1974</td>\n",
       "      <td>5576.514583</td>\n",
       "    </tr>\n",
       "  </tbody>\n",
       "</table>\n",
       "</div>"
      ],
      "text/plain": [
       "   year       income\n",
       "0  1970  3399.299037\n",
       "1  1971  3768.297935\n",
       "2  1972  4251.175484\n",
       "3  1973  4804.463248\n",
       "4  1974  5576.514583"
      ]
     },
     "execution_count": 3,
     "metadata": {},
     "output_type": "execute_result"
    }
   ],
   "source": [
    "# load the dataset\n",
    "local_path = Path(\"data/Canada_per_capita_income.csv\")\n",
    "\n",
    "if local_path.exists():\n",
    "    capita_GDP = pd.read_csv(local_path)\n",
    "    print(f'Data load successfully, {capita_GDP.shape[0]} rows, {capita_GDP.shape[1]} columns')\n",
    "else:\n",
    "    raise FileNotFoundError('Dataset not found. Please check the path')\n",
    "\n",
    "# \n",
    "capita_GDP.head()"
   ]
  },
  {
   "cell_type": "markdown",
   "id": "53ec7c20",
   "metadata": {
    "papermill": {
     "duration": 0.00611,
     "end_time": "2023-10-09T20:42:49.820495",
     "exception": false,
     "start_time": "2023-10-09T20:42:49.814385",
     "status": "completed"
    },
    "tags": []
   },
   "source": [
    "## 3. Data Visualization and Analysis"
   ]
  },
  {
   "cell_type": "markdown",
   "id": "7c5510c5",
   "metadata": {
    "papermill": {
     "duration": 0.005975,
     "end_time": "2023-10-09T20:42:49.83288",
     "exception": false,
     "start_time": "2023-10-09T20:42:49.826905",
     "status": "completed"
    },
    "tags": []
   },
   "source": [
    "Since there are only two columns in the dataset, in order to have a big picture of the dataset and relationship among data, we can plot the dataset with the help of `matlibplot` library. "
   ]
  },
  {
   "cell_type": "code",
   "execution_count": 6,
   "id": "51cc241b",
   "metadata": {
    "execution": {
     "iopub.execute_input": "2023-10-09T20:42:49.848842Z",
     "iopub.status.busy": "2023-10-09T20:42:49.847664Z",
     "iopub.status.idle": "2023-10-09T20:42:50.165916Z",
     "shell.execute_reply": "2023-10-09T20:42:50.164666Z"
    },
    "papermill": {
     "duration": 0.329148,
     "end_time": "2023-10-09T20:42:50.168428",
     "exception": false,
     "start_time": "2023-10-09T20:42:49.83928",
     "status": "completed"
    },
    "tags": []
   },
   "outputs": [
    {
     "data": {
      "image/png": "[encoded data removed]",
      "text/plain": [
       "<Figure size 800x400 with 1 Axes>"
      ]
     },
     "metadata": {},
     "output_type": "display_data"
    }
   ],
   "source": [
    "plt.figure(figsize=(8, 4))     # set figure size\n",
    "plt.plot(capita_GDP[\"year\"], capita_GDP[\"income\"], 'b.')    # plot 'income' vs.'year'\n",
    "plt.title('Canada per capita income over years')   # add figure title\n",
    "plt.xlabel(\"Year\")  # add x-axis label\n",
    "plt.ylabel(\"Per Capita Income\")     # add y-axis label\n",
    "plt.axis((1970, 2025, 0, 50000))   # set axis range (use tuple, not list)\n",
    "plt.grid(True)  # show grid in the figure\n",
    "plt.show()"
   ]
  },
  {
   "cell_type": "markdown",
   "id": "3e7ca174",
   "metadata": {
    "papermill": {
     "duration": 0.006667,
     "end_time": "2023-10-09T20:42:50.182498",
     "exception": false,
     "start_time": "2023-10-09T20:42:50.175831",
     "status": "completed"
    },
    "tags": []
   },
   "source": [
    "From the figure we find that, the relationship between **income** and **year** is not ideal linear. In order to predict income for future, we can try to train both Linear Regression model and Polynommial Regression model and compare the model performance to select the model that best fits the dataset."
   ]
  },
  {
   "cell_type": "markdown",
   "id": "400ef2af",
   "metadata": {
    "papermill": {
     "duration": 0.00664,
     "end_time": "2023-10-09T20:42:50.196074",
     "exception": false,
     "start_time": "2023-10-09T20:42:50.189434",
     "status": "completed"
    },
    "tags": []
   },
   "source": [
    "## 4. Model Trainning\n",
    "### 4.1 Choosing prediction target and features"
   ]
  },
  {
   "cell_type": "code",
   "execution_count": 7,
   "id": "ce4ea743",
   "metadata": {
    "execution": {
     "iopub.execute_input": "2023-10-09T20:42:50.212144Z",
     "iopub.status.busy": "2023-10-09T20:42:50.211741Z",
     "iopub.status.idle": "2023-10-09T20:42:50.220969Z",
     "shell.execute_reply": "2023-10-09T20:42:50.219784Z"
    },
    "papermill": {
     "duration": 0.020106,
     "end_time": "2023-10-09T20:42:50.223439",
     "exception": false,
     "start_time": "2023-10-09T20:42:50.203333",
     "status": "completed"
    },
    "tags": []
   },
   "outputs": [],
   "source": [
    "# Chose column income as prediction target y\n",
    "y = capita_GDP[['income']]\n",
    "\n",
    "# Chose column year as Feature X\n",
    "X= capita_GDP[['year']]"
   ]
  },
  {
   "cell_type": "markdown",
   "id": "e8244c5d",
   "metadata": {
    "papermill": {
     "duration": 0.007164,
     "end_time": "2023-10-09T20:42:50.237928",
     "exception": false,
     "start_time": "2023-10-09T20:42:50.230764",
     "status": "completed"
    },
    "tags": []
   },
   "source": [
    "### 4.2 Data splitting\n",
    "Hier we need to splite the dataset into training dataset to train the model and test dataset to validate/evaluate the trained model. We will typically choose 20% of the data for validation and the rest for training purpose."
   ]
  },
  {
   "cell_type": "code",
   "execution_count": 8,
   "id": "4bc3f549",
   "metadata": {
    "execution": {
     "iopub.execute_input": "2023-10-09T20:42:50.255943Z",
     "iopub.status.busy": "2023-10-09T20:42:50.2555Z",
     "iopub.status.idle": "2023-10-09T20:42:50.263716Z",
     "shell.execute_reply": "2023-10-09T20:42:50.262437Z"
    },
    "papermill": {
     "duration": 0.021268,
     "end_time": "2023-10-09T20:42:50.266189",
     "exception": false,
     "start_time": "2023-10-09T20:42:50.244921",
     "status": "completed"
    },
    "tags": []
   },
   "outputs": [],
   "source": [
    "# Split the data randomly into training and testing sets\n",
    "X_train, X_test, y_train, y_test = train_test_split(X, y, test_size=0.2, random_state=42)"
   ]
  },
  {
   "cell_type": "markdown",
   "id": "73e73cb3",
   "metadata": {
    "papermill": {
     "duration": 0.006995,
     "end_time": "2023-10-09T20:42:50.280872",
     "exception": false,
     "start_time": "2023-10-09T20:42:50.273877",
     "status": "completed"
    },
    "tags": []
   },
   "source": [
    "### 4.3 Model training using Linear Regression and Polymonial Regression"
   ]
  },
  {
   "cell_type": "markdown",
   "id": "6c94852f",
   "metadata": {
    "papermill": {
     "duration": 0.00728,
     "end_time": "2023-10-09T20:42:50.295393",
     "exception": false,
     "start_time": "2023-10-09T20:42:50.288113",
     "status": "completed"
    },
    "tags": []
   },
   "source": [
    "We first train the Linear Regression model using training data."
   ]
  },
  {
   "cell_type": "code",
   "execution_count": 9,
   "id": "d10ff991",
   "metadata": {
    "execution": {
     "iopub.execute_input": "2023-10-09T20:42:50.311237Z",
     "iopub.status.busy": "2023-10-09T20:42:50.31079Z",
     "iopub.status.idle": "2023-10-09T20:42:50.336662Z",
     "shell.execute_reply": "2023-10-09T20:42:50.335341Z"
    },
    "papermill": {
     "duration": 0.036831,
     "end_time": "2023-10-09T20:42:50.339145",
     "exception": false,
     "start_time": "2023-10-09T20:42:50.302314",
     "status": "completed"
    },
    "tags": []
   },
   "outputs": [
    {
     "data": {
      "text/plain": [
       "(array([-1605560.19879643]), array([[815.14251301]]))"
      ]
     },
     "execution_count": 9,
     "metadata": {},
     "output_type": "execute_result"
    }
   ],
   "source": [
    "# Perform Linear Regression\n",
    "linear_reg_model = LinearRegression()\n",
    "linear_reg_model.fit(X_train, y_train)   # model training using training dataset\n",
    "linear_reg_model.intercept_, linear_reg_model.coef_     # check the bais term and feature weight in the trained model"
   ]
  },
  {
   "cell_type": "markdown",
   "id": "6ec80388",
   "metadata": {
    "papermill": {
     "duration": 0.006776,
     "end_time": "2023-10-09T20:42:50.353481",
     "exception": false,
     "start_time": "2023-10-09T20:42:50.346705",
     "status": "completed"
    },
    "tags": []
   },
   "source": [
    "Before we train a Polynomia Regression model, we need to extend the features in the original dataset and then use the extended features to train a Linear Regression model."
   ]
  },
  {
   "cell_type": "code",
   "execution_count": 10,
   "id": "29d1befa",
   "metadata": {
    "execution": {
     "iopub.execute_input": "2023-10-09T20:42:50.369845Z",
     "iopub.status.busy": "2023-10-09T20:42:50.36943Z",
     "iopub.status.idle": "2023-10-09T20:42:50.395386Z",
     "shell.execute_reply": "2023-10-09T20:42:50.394496Z"
    },
    "papermill": {
     "duration": 0.036722,
     "end_time": "2023-10-09T20:42:50.397488",
     "exception": false,
     "start_time": "2023-10-09T20:42:50.360766",
     "status": "completed"
    },
    "tags": []
   },
   "outputs": [
    {
     "data": {
      "text/html": [
       "<style>#sk-container-id-1 {color: black;background-color: white;}#sk-container-id-1 pre{padding: 0;}#sk-container-id-1 div.sk-toggleable {background-color: white;}#sk-container-id-1 label.sk-toggleable__label {cursor: pointer;display: block;width: 100%;margin-bottom: 0;padding: 0.3em;box-sizing: border-box;text-align: center;}#sk-container-id-1 label.sk-toggleable__label-arrow:before {content: \"▸\";float: left;margin-right: 0.25em;color: #696969;}#sk-container-id-1 label.sk-toggleable__label-arrow:hover:before {color: black;}#sk-container-id-1 div.sk-estimator:hover label.sk-toggleable__label-arrow:before {color: black;}#sk-container-id-1 div.sk-toggleable__content {max-height: 0;max-width: 0;overflow: hidden;text-align: left;background-color: #f0f8ff;}#sk-container-id-1 div.sk-toggleable__content pre {margin: 0.2em;color: black;border-radius: 0.25em;background-color: #f0f8ff;}#sk-container-id-1 input.sk-toggleable__control:checked~div.sk-toggleable__content {max-height: 200px;max-width: 100%;overflow: auto;}#sk-container-id-1 input.sk-toggleable__control:checked~label.sk-toggleable__label-arrow:before {content: \"▾\";}#sk-container-id-1 div.sk-estimator input.sk-toggleable__control:checked~label.sk-toggleable__label {background-color: #d4ebff;}#sk-container-id-1 div.sk-label input.sk-toggleable__control:checked~label.sk-toggleable__label {background-color: #d4ebff;}#sk-container-id-1 input.sk-hidden--visually {border: 0;clip: rect(1px 1px 1px 1px);clip: rect(1px, 1px, 1px, 1px);height: 1px;margin: -1px;overflow: hidden;padding: 0;position: absolute;width: 1px;}#sk-container-id-1 div.sk-estimator {font-family: monospace;background-color: #f0f8ff;border: 1px dotted black;border-radius: 0.25em;box-sizing: border-box;margin-bottom: 0.5em;}#sk-container-id-1 div.sk-estimator:hover {background-color: #d4ebff;}#sk-container-id-1 div.sk-parallel-item::after {content: \"\";width: 100%;border-bottom: 1px solid gray;flex-grow: 1;}#sk-container-id-1 div.sk-label:hover label.sk-toggleable__label {background-color: #d4ebff;}#sk-container-id-1 div.sk-serial::before {content: \"\";position: absolute;border-left: 1px solid gray;box-sizing: border-box;top: 0;bottom: 0;left: 50%;z-index: 0;}#sk-container-id-1 div.sk-serial {display: flex;flex-direction: column;align-items: center;background-color: white;padding-right: 0.2em;padding-left: 0.2em;position: relative;}#sk-container-id-1 div.sk-item {position: relative;z-index: 1;}#sk-container-id-1 div.sk-parallel {display: flex;align-items: stretch;justify-content: center;background-color: white;position: relative;}#sk-container-id-1 div.sk-item::before, #sk-container-id-1 div.sk-parallel-item::before {content: \"\";position: absolute;border-left: 1px solid gray;box-sizing: border-box;top: 0;bottom: 0;left: 50%;z-index: -1;}#sk-container-id-1 div.sk-parallel-item {display: flex;flex-direction: column;z-index: 1;position: relative;background-color: white;}#sk-container-id-1 div.sk-parallel-item:first-child::after {align-self: flex-end;width: 50%;}#sk-container-id-1 div.sk-parallel-item:last-child::after {align-self: flex-start;width: 50%;}#sk-container-id-1 div.sk-parallel-item:only-child::after {width: 0;}#sk-container-id-1 div.sk-dashed-wrapped {border: 1px dashed gray;margin: 0 0.4em 0.5em 0.4em;box-sizing: border-box;padding-bottom: 0.4em;background-color: white;}#sk-container-id-1 div.sk-label label {font-family: monospace;font-weight: bold;display: inline-block;line-height: 1.2em;}#sk-container-id-1 div.sk-label-container {text-align: center;}#sk-container-id-1 div.sk-container {/* jupyter's `normalize.less` sets `[hidden] { display: none; }` but bootstrap.min.css set `[hidden] { display: none !important; }` so we also need the `!important` here to be able to override the default hidden behavior on the sphinx rendered scikit-learn.org. See: https://github.com/scikit-learn/scikit-learn/issues/21755 */display: inline-block !important;position: relative;}#sk-container-id-1 div.sk-text-repr-fallback {display: none;}</style><div id=\"sk-container-id-1\" class=\"sk-top-container\"><div class=\"sk-text-repr-fallback\"><pre>LinearRegression()</pre><b>In a Jupyter environment, please rerun this cell to show the HTML representation or trust the notebook. <br />On GitHub, the HTML representation is unable to render, please try loading this page with nbviewer.org.</b></div><div class=\"sk-container\" hidden><div class=\"sk-item\"><div class=\"sk-estimator sk-toggleable\"><input class=\"sk-toggleable__control sk-hidden--visually\" id=\"sk-estimator-id-1\" type=\"checkbox\" checked><label for=\"sk-estimator-id-1\" class=\"sk-toggleable__label sk-toggleable__label-arrow\">LinearRegression</label><div class=\"sk-toggleable__content\"><pre>LinearRegression()</pre></div></div></div></div></div>"
      ],
      "text/plain": [
       "LinearRegression()"
      ]
     },
     "execution_count": 10,
     "metadata": {},
     "output_type": "execute_result"
    }
   ],
   "source": [
    "# Extend features\n",
    "poly_features = PolynomialFeatures(degree = 2)  # degree = 2 means that the extended feature is the square of the original feature x\n",
    "X_poly_train = poly_features.fit_transform(X_train)     # convert to new features\n",
    "\n",
    "# Use extended features to train linear regression model\n",
    "poly_reg_model = LinearRegression()\n",
    "poly_reg_model.fit(X_poly_train, y_train)\n"
   ]
  },
  {
   "cell_type": "markdown",
   "id": "5f6ee17e",
   "metadata": {
    "papermill": {
     "duration": 0.006951,
     "end_time": "2023-10-09T20:42:50.411843",
     "exception": false,
     "start_time": "2023-10-09T20:42:50.404892",
     "status": "completed"
    },
    "tags": []
   },
   "source": [
    "## 5. Model Validation\n",
    "When we trained a model, we want to know how good it is, so we need to measure the quality of model. Here we evaluate the model performance using metrics **Mean Squared Error(MSE)** and **Root Mean Squared Error(RMSE)**."
   ]
  },
  {
   "cell_type": "code",
   "execution_count": 11,
   "id": "43058e4f",
   "metadata": {
    "execution": {
     "iopub.execute_input": "2023-10-09T20:42:50.428723Z",
     "iopub.status.busy": "2023-10-09T20:42:50.428243Z",
     "iopub.status.idle": "2023-10-09T20:42:50.443715Z",
     "shell.execute_reply": "2023-10-09T20:42:50.442459Z"
    },
    "papermill": {
     "duration": 0.026707,
     "end_time": "2023-10-09T20:42:50.446249",
     "exception": false,
     "start_time": "2023-10-09T20:42:50.419542",
     "status": "completed"
    },
    "tags": []
   },
   "outputs": [
    {
     "name": "stdout",
     "output_type": "stream",
     "text": [
      "Evaluation of Linear Regression Model\n",
      "Mean Squared Error(MSE): 15147815.5477862\n",
      "Root Mean Squared Error(RMSE): 3892.0194690913613\n",
      "\n",
      "Evaluation of Polynommial Regression Model\n",
      "Mean Squared Error(MSE): 6257614.352059883\n",
      "Root Mean Squared Error(RMSE): 2501.5224068674424\n"
     ]
    }
   ],
   "source": [
    "# Evaluate Linear Regression model\n",
    "y_linear_reg = linear_reg_model.predict(X_test)\n",
    "linear_reg_mse = mean_squared_error(y_test,y_linear_reg) # use target values in test dataset and predictions to compute MSE\n",
    "linear_reg_rmse = np.sqrt(linear_reg_mse)\n",
    "\n",
    "# Evaluate Polynomial Regression model\n",
    "X_poly_test = poly_features.fit_transform(X_test)\n",
    "y_poly_reg = poly_reg_model.predict(X_poly_test)\n",
    "poly_reg_mse = mean_squared_error(y_test, y_poly_reg)\n",
    "poly_reg_rmse = np.sqrt(poly_reg_mse)\n",
    "\n",
    "print(\"Evaluation of Linear Regression Model\")\n",
    "print(\"Mean Squared Error(MSE):\", linear_reg_mse)\n",
    "print(\"Root Mean Squared Error(RMSE):\", linear_reg_rmse)\n",
    "\n",
    "print(\"\\nEvaluation of Polynommial Regression Model\")\n",
    "print(\"Mean Squared Error(MSE):\", poly_reg_mse)\n",
    "print(\"Root Mean Squared Error(RMSE):\", poly_reg_rmse)"
   ]
  },
  {
   "cell_type": "markdown",
   "id": "86900dc6",
   "metadata": {
    "papermill": {
     "duration": 0.007407,
     "end_time": "2023-10-09T20:42:50.461182",
     "exception": false,
     "start_time": "2023-10-09T20:42:50.453775",
     "status": "completed"
    },
    "tags": []
   },
   "source": [
    "### Cross-Validation\n",
    "Since our dataset is small, the cross-validation could be a better way to measure both Linear and Polynomial model quality, which can reduce the randomness in determining model quality.\n",
    "So we will apply a 5-folds cross-validation on both models with help of `cross_val_score` in Scikit-Learn."
   ]
  },
  {
   "cell_type": "code",
   "execution_count": 12,
   "id": "94ea8122",
   "metadata": {
    "execution": {
     "iopub.execute_input": "2023-10-09T20:42:50.478124Z",
     "iopub.status.busy": "2023-10-09T20:42:50.477715Z",
     "iopub.status.idle": "2023-10-09T20:42:50.545709Z",
     "shell.execute_reply": "2023-10-09T20:42:50.54436Z"
    },
    "papermill": {
     "duration": 0.079635,
     "end_time": "2023-10-09T20:42:50.548123",
     "exception": false,
     "start_time": "2023-10-09T20:42:50.468488",
     "status": "completed"
    },
    "tags": []
   },
   "outputs": [],
   "source": [
    "# compute the 5-folds cross-validation score of Linear Regression model\n",
    "linear_reg_scores = cross_val_score(linear_reg_model,X,y,\n",
    "                                   scoring = 'neg_mean_squared_error',cv = 5)\n",
    "linear_reg_rmse = np.sqrt(-linear_reg_scores)\n",
    "\n",
    "\n",
    "# compute the 5-folds cross-validation score of Polynomial Regression model\n",
    "X_ploy = poly_features.fit_transform(X)\n",
    "poly_reg_scores = cross_val_score(poly_reg_model,X_ploy,y,\n",
    "                                   scoring = 'neg_mean_squared_error',cv = 5)\n",
    "ploy_reg_rmse = np.sqrt(-poly_reg_scores)"
   ]
  },
  {
   "cell_type": "code",
   "execution_count": 13,
   "id": "87dcf606",
   "metadata": {
    "execution": {
     "iopub.execute_input": "2023-10-09T20:42:50.566251Z",
     "iopub.status.busy": "2023-10-09T20:42:50.565124Z",
     "iopub.status.idle": "2023-10-09T20:42:50.571206Z",
     "shell.execute_reply": "2023-10-09T20:42:50.569744Z"
    },
    "papermill": {
     "duration": 0.017615,
     "end_time": "2023-10-09T20:42:50.573613",
     "exception": false,
     "start_time": "2023-10-09T20:42:50.555998",
     "status": "completed"
    },
    "tags": []
   },
   "outputs": [],
   "source": [
    "# define a function to display the various scores of the measure metrics\n",
    "def display_score(scores):\n",
    "    print(\"RMSE Scores:\",scores)\n",
    "    print('Mean:', scores.mean())\n",
    "    print('Standard deviation:',scores.std())"
   ]
  },
  {
   "cell_type": "code",
   "execution_count": 14,
   "id": "0f09eaef",
   "metadata": {
    "execution": {
     "iopub.execute_input": "2023-10-09T20:42:50.590836Z",
     "iopub.status.busy": "2023-10-09T20:42:50.590418Z",
     "iopub.status.idle": "2023-10-09T20:42:50.597281Z",
     "shell.execute_reply": "2023-10-09T20:42:50.596039Z"
    },
    "papermill": {
     "duration": 0.018435,
     "end_time": "2023-10-09T20:42:50.59952",
     "exception": false,
     "start_time": "2023-10-09T20:42:50.581085",
     "status": "completed"
    },
    "tags": []
   },
   "outputs": [
    {
     "name": "stdout",
     "output_type": "stream",
     "text": [
      "Cross-validation scores of Linear Regression model:\n",
      "RMSE Scores: [5683.87053182  883.08261298 4517.91260028 5654.02235474 9612.63270767]\n",
      "Mean: 5270.304161497783\n",
      "Standard deviation: 2792.4147247363776\n",
      "\n",
      "Cross-validation scores of Polynomial Regression model:\n",
      "RMSE Scores: [3386.33592175 2078.01276105 2534.50122277 4486.88425647 6002.65005962]\n",
      "Mean: 3697.6768443307838\n",
      "Standard deviation: 1414.8478576806592\n"
     ]
    }
   ],
   "source": [
    "print('Cross-validation scores of Linear Regression model:')\n",
    "display_score(linear_reg_rmse)\n",
    "\n",
    "print('\\nCross-validation scores of Polynomial Regression model:')\n",
    "display_score(ploy_reg_rmse)"
   ]
  },
  {
   "cell_type": "markdown",
   "id": "053cbadd",
   "metadata": {
    "papermill": {
     "duration": 0.007196,
     "end_time": "2023-10-09T20:42:50.614501",
     "exception": false,
     "start_time": "2023-10-09T20:42:50.607305",
     "status": "completed"
    },
    "tags": []
   },
   "source": [
    "## 6. Prediction Visualization\n",
    "In this step, we'd like to use trained model to predict all target values in the original dataset to see how well the model could fit the dataset."
   ]
  },
  {
   "cell_type": "code",
   "execution_count": 15,
   "id": "723c85cf",
   "metadata": {
    "execution": {
     "iopub.execute_input": "2023-10-09T20:42:50.631542Z",
     "iopub.status.busy": "2023-10-09T20:42:50.631157Z",
     "iopub.status.idle": "2023-10-09T20:42:51.26833Z",
     "shell.execute_reply": "2023-10-09T20:42:51.26706Z"
    },
    "papermill": {
     "duration": 0.649012,
     "end_time": "2023-10-09T20:42:51.271191",
     "exception": false,
     "start_time": "2023-10-09T20:42:50.622179",
     "status": "completed"
    },
    "tags": []
   },
   "outputs": [
    {
     "data": {
      "image/png": "[encoded data removed]",
      "text/plain": [
       "<Figure size 1600x600 with 2 Axes>"
      ]
     },
     "metadata": {},
     "output_type": "display_data"
    }
   ],
   "source": [
    "fig,ax = plt.subplots(1,2,figsize=(16, 6))\n",
    "\n",
    "# plot the results of Linear Regression\n",
    "y_linear_reg = linear_reg_model.predict(X)\n",
    "ax[0].plot(X, y, \"b.\",label = \"Original date samples\") # plot 'income' vs.'year'\n",
    "ax[0].plot(X,y_linear_reg,\"g-\",linewidth=2, label = \"Linear Regression rredictions\")\n",
    "ax[0].axis([1970,2024,0,50000])\n",
    "ax[0].set_xlabel(\"Year\")\n",
    "ax[0].set_ylabel(\"Per Capita Income\")\n",
    "ax[0].set_title(\"Linear Regression\")\n",
    "ax[0].legend()\n",
    "ax[0].grid(True)\n",
    "\n",
    "\n",
    "\n",
    "# plot the results of Linear Regression\n",
    "X_poly = poly_features.fit_transform(X)\n",
    "y_poly_reg = poly_reg_model.predict(X_poly)\n",
    "ax[1].plot(X, y, \"b.\",label = \"Original date samples\") # plot 'income' vs.'year'\n",
    "ax[1].plot(X,y_poly_reg,\"g-\",linewidth=2, label = \"Linear Regression rredictions\")\n",
    "ax[1].axis([1970,2025,0,50000])\n",
    "ax[1].set_xlabel(\"Year\")\n",
    "ax[1].set_ylabel(\"Per Capita Income\")\n",
    "ax[1].set_title(\"Polynomial Regression(Degree=2)\")\n",
    "ax[1].legend()\n",
    "ax[1].grid(True)"
   ]
  },
  {
   "cell_type": "markdown",
   "id": "7c1e1921",
   "metadata": {
    "papermill": {
     "duration": 0.009536,
     "end_time": "2023-10-09T20:42:51.290256",
     "exception": false,
     "start_time": "2023-10-09T20:42:51.28072",
     "status": "completed"
    },
    "tags": []
   },
   "source": [
    "From the above comparisions we can see that, the Polynomial Regression can better fit the original dataset and the RMSE and deviation of RMSE in Polynomial Regression are much smaller than that in Linear Regression."
   ]
  }
 ],
 "metadata": {
  "kernelspec": {
   "display_name": "base",
   "language": "python",
   "name": "python3"
  },
  "language_info": {
   "codemirror_mode": {
    "name": "ipython",
    "version": 3
   },
   "file_extension": ".py",
   "mimetype": "text/x-python",
   "name": "python",
   "nbconvert_exporter": "python",
   "pygments_lexer": "ipython3",
   "version": "3.11.7"
  },
  "papermill": {
   "default_parameters": {},
   "duration": 15.715456,
   "end_time": "2023-10-09T20:42:52.525709",
   "environment_variables": {},
   "exception": null,
   "input_path": "__notebook__.ipynb",
   "output_path": "__notebook__.ipynb",
   "parameters": {},
   "start_time": "2023-10-09T20:42:36.810253",
   "version": "2.4.0"
  }
 },
 "nbformat": 4,
 "nbformat_minor": 5
}
